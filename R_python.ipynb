{
  "nbformat": 4,
  "nbformat_minor": 0,
  "metadata": {
    "colab": {
      "provenance": []
    },
    "kernelspec": {
      "name": "python3",
      "display_name": "Python 3"
    },
    "language_info": {
      "name": "python"
    }
  },
  "cells": [
    {
      "cell_type": "markdown",
      "source": [
        "# Código de R en colab"
      ],
      "metadata": {
        "id": "C65Wb78VRwsI"
      }
    },
    {
      "cell_type": "markdown",
      "source": [
        "# Abriendo cuestiones de python"
      ],
      "metadata": {
        "id": "fjTdft7Oau8G"
      }
    },
    {
      "cell_type": "code",
      "source": [
        "!pip install gspread\n",
        "!pip install rpy2==3.5.1\n",
        "from google.colab import auth\n",
        "from google.colab import drive\n",
        "drive.mount('/content/drive/')\n",
        "import gspread\n",
        "from google.auth import default\n",
        "import pandas as pd\n",
        "import numpy as np\n",
        "%load_ext rpy2.ipython\n",
        "auth.authenticate_user()\n",
        "creds, _ = default() # default pertenece a google.auth. Genera una tupla, y solo nos importa el primer elemento.\n",
        "gc = gspread.authorize(creds)"
      ],
      "metadata": {
        "id": "rkkgnt5ta1aJ"
      },
      "execution_count": null,
      "outputs": []
    },
    {
      "cell_type": "code",
      "source": [
        "# Parte de la base madre:\n",
        "\n",
        "bs_madre_lm = gc.open('Links datos lectura mensual asesorados 2023').sheet1 # Acá defino la hoja que quiero abrir\n",
        "bs_madre_lm = bs_madre_lm.get_all_values() #get_all_values gives a list of rows\n",
        "bs_madre_lm = pd.DataFrame(bs_madre_lm,) #Convert to a DataFrame\n",
        "bs_madre_lm.columns = bs_madre_lm.iloc[0]\n",
        "bs_madre_lm = bs_madre_lm[1:]\n",
        "bs_madre_lm = bs_madre_lm.iloc[:,0:4]\n",
        "bs_madre_lm[\"nombre_arch\"] = \"Planilla registro lecturas mensuales \" + bs_madre_lm.Colegio + \" \" + bs_madre_lm.Año\n",
        "bs_madre_lm = bs_madre_lm.loc[bs_madre_lm.Año == \"2023\"] # Se puede modificar o agregar un filtro en la base madre\n",
        "\n",
        "\n",
        "lista_compilados = []\n",
        "\n",
        "for n in range(len(bs_madre_lm.nombre_arch.to_list())):\n",
        "  try:\n",
        "    archivo = bs_madre_lm.nombre_arch.to_list()[n]\n",
        "    Colegio = bs_madre_lm.Colegio.to_list()[n]\n",
        "    Año = bs_madre_lm.Año.to_list()[n]\n",
        "    hojas = gc.open(archivo)\n",
        "    num_hojas = len(hojas.worksheets()) # Obtener el número de hojas en el archivo\n",
        "    nombres_hojas = [hojas.get_worksheet(i).title for i in range(num_hojas)] # Obtener los nombres de las hojas en el archivo\n",
        "    nombres_hojas = [hoja for hoja in nombres_hojas if hoja in [\"1A\",\"1B\",\"1C\",\"1D\",\"1E\"]]\n",
        "    for hoja in  nombres_hojas:\n",
        "      rows = hojas.worksheet(hoja)\n",
        "      rows = rows.get_all_values()[6:53]\n",
        "      rows = [fila[:13] for fila in rows]\n",
        "      df = pd.DataFrame(rows)\n",
        "      df.columns = df.iloc[0]\n",
        "      df = df[1:]\n",
        "      df[\"Año\"] = Año\n",
        "      df[\"Colegio\"] = Colegio\n",
        "      df[\"Letra\"] = hoja\n",
        "      lista_compilados.append(df)\n",
        "      print(\"planilla \" + archivo + \" \" + hoja + \" correctamente compilada\")\n",
        "  except:\n",
        "    print(\"error en \"+archivo)\n",
        "\n",
        "compilado_lm = pd.concat(lista_compilados, ignore_index=True)\n",
        "\n",
        "# Si se quisiera revisar alguna base:\n",
        "#rows = gc.open(i).sheet1\n",
        "#rows = rows.get_all_values()[6:53]\n",
        "#rows = [fila[:13] for fila in rows]\n",
        "\n"
      ],
      "metadata": {
        "id": "4bJxLaiDavEY",
        "colab": {
          "base_uri": "https://localhost:8080/"
        },
        "outputId": "aee0a7a7-7fdf-47b5-f96f-d1b519b2ee2a"
      },
      "execution_count": 15,
      "outputs": [
        {
          "output_type": "stream",
          "name": "stdout",
          "text": [
            "planilla Planilla registro lecturas mensuales EBPA 2023 1A correctamente compilada\n",
            "planilla Planilla registro lecturas mensuales EBPA 2023 1B correctamente compilada\n",
            "planilla Planilla registro lecturas mensuales JF 2023 1A correctamente compilada\n",
            "planilla Planilla registro lecturas mensuales JF 2023 1B correctamente compilada\n",
            "planilla Planilla registro lecturas mensuales JF 2023 1C correctamente compilada\n",
            "planilla Planilla registro lecturas mensuales MR 2023 1A correctamente compilada\n",
            "planilla Planilla registro lecturas mensuales MR 2023 1B correctamente compilada\n",
            "planilla Planilla registro lecturas mensuales SVF 2023 1A correctamente compilada\n",
            "planilla Planilla registro lecturas mensuales SVF 2023 1B correctamente compilada\n",
            "error en Planilla registro lecturas mensuales CSFP 2023\n",
            "planilla Planilla registro lecturas mensuales CMA 2023 1A correctamente compilada\n",
            "planilla Planilla registro lecturas mensuales ELA 2023 1A correctamente compilada\n",
            "planilla Planilla registro lecturas mensuales ENC 2023 1A correctamente compilada\n",
            "planilla Planilla registro lecturas mensuales EVI 2023 1A correctamente compilada\n",
            "planilla Planilla registro lecturas mensuales EVI 2023 1B correctamente compilada\n",
            "planilla Planilla registro lecturas mensuales LVSJ 2023 1A correctamente compilada\n",
            "error en Planilla registro lecturas mensuales IHAMC 2023\n",
            "error en Planilla registro lecturas mensuales IHSFA 2023\n",
            "error en Planilla registro lecturas mensuales ISJC 2023\n",
            "planilla Planilla registro lecturas mensuales CSA 2023 1A correctamente compilada\n",
            "planilla Planilla registro lecturas mensuales CSA 2023 1B correctamente compilada\n",
            "planilla Planilla registro lecturas mensuales ESIL 2023 1A correctamente compilada\n",
            "planilla Planilla registro lecturas mensuales ESIL 2023 1B correctamente compilada\n",
            "planilla Planilla registro lecturas mensuales CJAL 2023 1A correctamente compilada\n",
            "planilla Planilla registro lecturas mensuales ESICT 2023 1A correctamente compilada\n"
          ]
        }
      ]
    },
    {
      "cell_type": "code",
      "source": [
        "compilado_lm # solo para ver si hay problemas en la base"
      ],
      "metadata": {
        "id": "aHUktIbJDKBJ"
      },
      "execution_count": null,
      "outputs": []
    },
    {
      "cell_type": "code",
      "source": [
        "# depurar compilado:\n",
        "## Borrar los valores faltantes de los nombres:\n",
        "compilado_lm[\"Nombre\"] = compilado_lm[\"Nombre\"].replace('', np.nan)\n",
        "compilado_lm.dropna(subset=\"Nombre\",inplace=True)\n",
        "## Resetear el índice\n",
        "compilado_lm = compilado_lm.reset_index(drop=True)\n",
        "## Seleccionar columnas:\n",
        "compilado_lm = compilado_lm.iloc[:,0:16]\n",
        "## Cambiar nombres:\n",
        "compilado_lm.columns = [\"N\",\"Nombre\",\"Lectura_1\",\"Lectura_2\",\"Lectura_3\",\"Lectura_4\",\"Lectura_5\",\"Lectura_6\",\"Lectura_7\",\"Lectura_8\",\"Lectura_9\",\"Cantidad_palabras\",\"Categoría\",\"Año\",\"Colegio\",\"Letra\"]\n",
        "compilado_lm = compilado_lm.iloc[:,[13,14,15,0,1,2,3,4,5,6,7,8,9,10,11,12]]\n"
      ],
      "metadata": {
        "id": "AQvLF8YDRxRv"
      },
      "execution_count": 16,
      "outputs": []
    },
    {
      "cell_type": "markdown",
      "source": [
        "# Abriendo R"
      ],
      "metadata": {
        "id": "laiXVkseakzh"
      }
    },
    {
      "cell_type": "code",
      "source": [
        "%R library(tidyverse)\n",
        "%Rpush compilado_lm"
      ],
      "metadata": {
        "colab": {
          "base_uri": "https://localhost:8080/"
        },
        "id": "0PnqvjqO-D_6",
        "outputId": "d4027625-5a34-47b0-837c-777d4f260aa6"
      },
      "execution_count": 17,
      "outputs": [
        {
          "output_type": "stream",
          "name": "stderr",
          "text": [
            "/usr/local/lib/python3.10/dist-packages/rpy2/robjects/pandas2ri.py:54: FutureWarning: iteritems is deprecated and will be removed in a future version. Use .items instead.\n",
            "  for name, values in obj.iteritems():\n"
          ]
        }
      ]
    },
    {
      "cell_type": "code",
      "source": [
        "%%R\n",
        "base_resumen = compilado_lm %>% gather(key=Lectura, value=Categoría, 6:16) %>%\n",
        "      mutate(Categoría = ifelse(is.na(Categoría)==T,\"Ausente\",Categoría)) %>%\n",
        "      mutate(Categoría = ifelse(Categoría==\"\" | Categoría==\" \",\"Ausente\",Categoría)) %>%\n",
        "      filter(Categoría %in% c(\"E\",\"MB\",\"B\",\"S\",\"I\", \"NL\", \"Ausente\")) %>%\n",
        "      count(Año, Colegio, Letra,Lectura,Categoría) %>%\n",
        "      group_by(Año, Colegio, Letra,Lectura) %>% mutate(Porcentaje = round(n/sum(n,na.rm=T)*100,2)) %>% \n",
        "      ungroup() %>% \n",
        "      select(Año, Colegio, Letra, Lectura, Categoría, Porcentaje)"
      ],
      "metadata": {
        "id": "n6oHbZDvVMea"
      },
      "execution_count": 18,
      "outputs": []
    },
    {
      "cell_type": "code",
      "source": [
        "%R -o base_resumen # transformar esta base en un output de R que se puede leer en python"
      ],
      "metadata": {
        "id": "290MUmBXy9YE"
      },
      "execution_count": 19,
      "outputs": []
    },
    {
      "cell_type": "code",
      "source": [
        "# Ahora vamos a hacer bases resumen en base a los presentes\n",
        "from itertools import product\n",
        "## Hacer formato long\n",
        "compilado_lm_long = compilado_lm.melt(id_vars = [\"N\",\"Año\",\"Colegio\",\"Letra\",\"Nombre\"], value_vars=[\"Lectura_1\",\"Lectura_2\",\"Lectura_3\",\"Lectura_4\",\n",
        "                                                \"Lectura_5\",\"Lectura_6\",\"Lectura_7\",\"Lectura_8\",\n",
        "                                                \"Lectura_9\",\"Cantidad_palabras\",\"Categoría\"], var_name='Lectura', value_name='Categoría')\n",
        "# Reemplazar valores ''\n",
        "compilado_lm_long[\"Categoría\"] = compilado_lm_long[\"Categoría\"].replace('', \"Ausente\")\n",
        "# Eliminar ausentes\n",
        "compilado_lm_long = compilado_lm_long[np.logical_and(compilado_lm_long[\"Categoría\"] != \"Ausente\", ~compilado_lm_long[\"Categoría\"].isna())]\n",
        "\n",
        "\n",
        "# Contar cada categoría\n",
        "frecuencia = compilado_lm_long.groupby(['Año','Colegio', 'Letra', 'Lectura', 'Categoría'])['Categoría'].count().reset_index(name='Frecuencia')\n",
        "# Generar grid:\n",
        "Año = compilado_lm_long[\"Año\"].unique()\n",
        "Colegio = compilado_lm_long[\"Colegio\"].unique()\n",
        "Letra = compilado_lm_long[\"Letra\"].unique()\n",
        "Lectura = compilado_lm_long[\"Lectura\"].unique()\n",
        "Categoría = ['E', 'MB', 'B', 'S', 'I', \"NL\"]\n",
        "df_completo = pd.DataFrame(list(product(Año, Colegio, Letra, Lectura, Categoría)), columns=[\"Año\", \"Colegio\", \"Letra\", \"Lectura\", \"Categoría\"])\n",
        "# Hacer el left join:\n",
        "frecuencia_completa = pd.merge(df_completo, frecuencia, on=['Año', 'Colegio', 'Letra', \"Lectura\", 'Categoría'], how='left')\n",
        "frecuencia_completa[\"Frecuencia\"] = frecuencia_completa[\"Frecuencia\"].fillna(0)\n",
        "frecuencia_completa[\"Porcentaje_frecuencia\"] = frecuencia_completa.groupby(['Año','Colegio', 'Letra', 'Lectura'])[\"Frecuencia\"].apply(lambda x: 100 * x / float(x.sum()))\n",
        "frecuencia_completa[\"Porcentaje_frecuencia\"] = frecuencia_completa[\"Porcentaje_frecuencia\"].round(2)\n",
        "\n",
        "orden_categorias = ['E', 'MB', 'B', 'S', 'I', 'NL']\n",
        "frecuencia_completa['Categoría'] = pd.Categorical(frecuencia_completa['Categoría'], categories=orden_categorias, ordered=True)\n",
        "frecuencia_completa = frecuencia_completa.sort_values(['Año', 'Colegio', 'Letra', 'Lectura', 'Categoría'])\n",
        "\n",
        "tabla_porcentajes = frecuencia_completa.pivot_table(index=['Año', 'Colegio', 'Letra',  'Categoría'], \n",
        "                                               columns='Lectura', \n",
        "                                               values='Porcentaje_frecuencia')\n",
        "# resetear índice\n",
        "tabla_porcentajes = tabla_porcentajes.reset_index()\n",
        "\n",
        "tabla_frecuencias = frecuencia_completa.pivot_table(index=['Año', 'Colegio', 'Letra',  'Categoría'], \n",
        "                                               columns='Lectura', \n",
        "                                               values='Frecuencia')\n",
        "# resetear índice\n",
        "tabla_frecuencias = tabla_frecuencias.reset_index()\n"
      ],
      "metadata": {
        "id": "nDdpvJkV1j0R"
      },
      "execution_count": null,
      "outputs": []
    },
    {
      "cell_type": "code",
      "source": [
        "with pd.ExcelWriter(\"Compilados lectura mensual.xlsx\") as writer:\n",
        "   \n",
        "    # use to_excel function and specify the sheet_name and index\n",
        "    # to store the dataframe in specified sheet\n",
        "    compilado_lm.to_excel(writer, sheet_name=\"compilado\", index=False)\n",
        "    base_resumen.to_excel(writer, sheet_name=\"resumen general\", index=False)\n",
        "    tabla_porcentajes.to_excel(writer, sheet_name=\"porcentajes\", index=False)\n",
        "    tabla_frecuencias.to_excel(writer, sheet_name=\"frecuencias\", index=False)"
      ],
      "metadata": {
        "id": "Dr7FwQqbO2Kb"
      },
      "execution_count": 21,
      "outputs": []
    }
  ]
}